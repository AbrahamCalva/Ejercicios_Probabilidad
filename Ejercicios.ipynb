{
 "cells": [
  {
   "cell_type": "markdown",
   "id": "cb93f7bc-9fd2-488e-b374-595d2ff7ec9b",
   "metadata": {},
   "source": [
    "# Autores\n",
    "\n",
    "- Jean Paul Vidal Ceron - 2C - 230110625 - Ejercicios 9, 10 y 14\n",
    "- Alejandro Cruz Martinez -2B- 230110322 - Ejercicios 11 y 12\n",
    "- Abraham Calva - 2C - 230110637 - Ejercicios 13 y 15\n",
    "- Marco Antonio Mendoza Calva - 2B -230110330 - Ejercicios 16 y 17\n"
   ]
  },
  {
   "cell_type": "code",
   "execution_count": 1,
   "id": "5f4b98ca-1470-492c-887b-17eed5197942",
   "metadata": {},
   "outputs": [],
   "source": [
    "import numpy as np \n",
    "import pandas as pd\n",
    "import math\n",
    "\n",
    "import os\n",
    "for dirname, _, filenames in os.walk('/kaggle/input'):\n",
    "    for filename in filenames:\n",
    "        print(os.path.join(dirname, filename))"
   ]
  },
  {
   "cell_type": "markdown",
   "id": "ff4be78b-23cb-4da2-9dd1-672e730edbe3",
   "metadata": {},
   "source": [
    "# Ejercicio 11\n",
    "### Parque vehicular. La Ciudad de México tiene placas de automóviles con tres números seguidos por tres letras, es decir, son placas del tipo 999-AAA. Sin embargo, no pueden empezar con 0(cero) ni se utilizan las letras I, O, Q y Ñ."
   ]
  },
  {
   "cell_type": "markdown",
   "id": "c949d7e4-9919-4a24-9f84-60c02d659e91",
   "metadata": {},
   "source": [
    "### a) ¿Cuántas placas diferentes son posibles?"
   ]
  },
  {
   "cell_type": "markdown",
   "id": "354f33e1-967d-4a9a-b7f2-9fbee42e71fe",
   "metadata": {},
   "source": [
    "Este inciso nos pide calcular el número de placas posibles si las placas son del tipo 999-AAA y con la condición de que no pueden iniciar con 0. Para ello, haremos las siguientes operaciones:\n",
    "\n",
    "Primero, calculamos el total de combinaciones de los números:\n",
    "$$\n",
    "\\begin{align}\n",
    "   num &= 9 * 10 * 10\\\\\n",
    "num &=900\\\\\n",
    "\\end{align}\n",
    "$$\n",
    "\n",
    "Posteriormente, calculamos las combinaciones totales de las letras:\n",
    "$$\n",
    "\\begin{align}\n",
    "   letras &= 23 * 23 * 23\\\\\n",
    "letras &=12,167\\\\\n",
    "\\end{align}\n",
    "$$\n",
    "Por último, multiplicamos los totales de las combinaciones para obtener el total de placas:\n",
    "$$\n",
    "\\begin{align}\n",
    "   placas &= 900 * 12,167\\\\\n",
    "placas &=10950300\\\\\n",
    "\\end{align}\n",
    "$$\n",
    "\n",
    "Por lo tanto, el total de placas que se pueden realizar es de: 10950300."
   ]
  },
  {
   "cell_type": "code",
   "execution_count": 2,
   "id": "431b4d19-fa9f-44c4-9007-60e2136831a6",
   "metadata": {},
   "outputs": [
    {
     "name": "stdout",
     "output_type": "stream",
     "text": [
      "a) ¿Cuántas placas diferentes son posibles? 10950300\n"
     ]
    }
   ],
   "source": [
    "# implementacion de la solucion del inciso a) del ejercicio11\n",
    "import math\n",
    "num = 9 * 10 * 10\n",
    "letra =23 * 23 * 23\n",
    "res = num * letra\n",
    "print(\"a) ¿Cuántas placas diferentes son posibles?\", res)\n"
   ]
  },
  {
   "cell_type": "markdown",
   "id": "6201fc1c-ff91-4aa1-a9af-eee00397e4a7",
   "metadata": {},
   "source": [
    "### b) ¿Cuántas placas diferentes terminan en vocal?"
   ]
  },
  {
   "cell_type": "markdown",
   "id": "b7bb1f1c-42d4-476d-ae1e-d7db4cf64cf9",
   "metadata": {},
   "source": [
    "Para este inciso necesitamos calcular el total de combinaciones de 3 letras, donde las dos primeras pueden ser cualquier letra y la tercera letra debe ser una vocal, por lo tanto, la operación quedaría así:\n",
    "$$\n",
    "\\begin{align}\n",
    "C &= 23*23*3\\\\\n",
    "C &=1587\\\\\n",
    "\\end{align}\n",
    "$$\n",
    "Posteriormente, multiplicamos las combinaciones de las 3 letras, pero con la terminación de una vocal, por la combinación de los números:\n",
    "$$ \n",
    "\\begin{align}\n",
    "placas &= 1587*900\\\\\n",
    "placas &=1428300\\\\\n",
    "\\end{align}\n",
    "$$\n",
    "Por lo tanto, el número de placas que terminan en una vocal en la tercera letra son:1,428,300 ."
   ]
  },
  {
   "cell_type": "code",
   "execution_count": 3,
   "id": "dcc5b43b-4f05-4aa2-af96-26b73a0e8f5a",
   "metadata": {},
   "outputs": [
    {
     "name": "stdout",
     "output_type": "stream",
     "text": [
      "el total de placas que terminan en vocal son: 1428300\n"
     ]
    }
   ],
   "source": [
    "#implementacion de la solucion del inciso b) ejercicio11 \n",
    "\n",
    "vocal = 23 * 23 * 3\n",
    "\n",
    "r = vocal * num \n",
    "print(\"el total de placas que terminan en vocal son:\" , r)\n"
   ]
  },
  {
   "cell_type": "markdown",
   "id": "828bde2a-2469-40a9-9931-d40f91c5ccff",
   "metadata": {},
   "source": [
    "### c) ¿Cuál es la probabilidad de que una placa, elegida al azar, sea impar?"
   ]
  },
  {
   "cell_type": "markdown",
   "id": "70406e64-5a15-47c4-bcb8-ec8695f0a206",
   "metadata": {},
   "source": [
    "Para calcular la probabilidad, primero calculamos el total de combinaciones para las placas realizando lo mismo que se hizo en el inciso a), pero modificando el 10 por el número 5, ya que hay 5 números impares:\n",
    "$$\n",
    "\\begin{align}\n",
    "   num &= 9 * 10 * 5\\\\\n",
    "num &=450\\\\\n",
    "\\end{align}\n",
    "$$\n",
    "Posteriormente, dividimos el número de combinaciones de números impares entre el total de números pares e impares:\n",
    "$$\n",
    "\\begin{align}\n",
    "C &=450/900\\\\\n",
    "C &= 0.5 \n",
    "\\end{align}\n",
    "$$\n",
    "\n",
    "Por lo tanto, la probabilidad de que una placa sea elegida al azar es de:50%\n"
   ]
  },
  {
   "cell_type": "code",
   "execution_count": 4,
   "id": "fb5abd55-fe65-46b7-9c0e-084274dadc16",
   "metadata": {},
   "outputs": [
    {
     "name": "stdout",
     "output_type": "stream",
     "text": [
      "probabilidad es del 0.5%\n"
     ]
    }
   ],
   "source": [
    "# implementacion de la solucion del inciso c) del ejercicio11\n",
    "dig = 9*10*5\n",
    "res = 900\n",
    "probabilidad = (dig / res) \n",
    "print(f\"probabilidad es del {probabilidad}%\")"
   ]
  },
  {
   "cell_type": "markdown",
   "id": "f8b378ab-b2d7-452f-a916-ae5936052785",
   "metadata": {},
   "source": [
    "# Ejercicio12"
   ]
  },
  {
   "cell_type": "markdown",
   "id": "090d08f2-739e-4263-b5af-c35be2d2f3a7",
   "metadata": {},
   "source": [
    "\n",
    "- Servicios restauranteros. Una cadena de hamburguesas anuncia que se ofrecen 512 maneras de  pedir una hamburguesa. Un cliente puede elegir cualquiera de estos ingredientes: cátsup, mos-taza, mayonesa, aderezo de la casa, cebolla, pepinillos, jitomate, tocino y lechuga. ¿Crees que loque afirma la empresa sea cierto? Justifica tu respuesta.\n",
    "### justificacion\n",
    "Son 9 ingredientes y cada ingrediente puede o no ponerse en la hamburguesa. Así que cada ingrediente cuenta como 2 alternativas, ya sea si lleva el ingrediente o no. Para ello, realizamos la siguiente operación: \n",
    "$$\n",
    "\\begin{align}\n",
    "A &=2^9\\\\\n",
    "A &=512\n",
    "\\end{align}\n",
    "$$\n",
    "Se eleva a la 9a potencia ya que son 9 ingredientes en total, y en total nos darían 512 maneras distintas de ordenar una hamburguesa.\n",
    "\n",
    "Entonces, podemos decir que lo que afirman es correcto.\n",
    "\n"
   ]
  },
  {
   "cell_type": "code",
   "execution_count": 6,
   "id": "b254d5fa-8e86-4f5f-8a32-40e0b092d3f4",
   "metadata": {},
   "outputs": [
    {
     "name": "stdout",
     "output_type": "stream",
     "text": [
      "total de maneras de pedir una hamburgesa 512\n"
     ]
    }
   ],
   "source": [
    "# Implementacion de la solucion del ejercicio12\n",
    "num_ingredientes = 9\n",
    "maneras_pedir_amburgesa = 2**num_ingredientes\n",
    "print(\"total de maneras de pedir una hamburgesa\",maneras_pedir_amburgesa)\n"
   ]
  },
  {
   "cell_type": "markdown",
   "id": "631a0a58-a93a-4c71-9289-c595ffb71a36",
   "metadata": {},
   "source": [
    "<strong>13. Cultura</strong> Una persona tiene un libro de cada uno de los autores siguientes:\n",
    "- Mario Vargas Llosa,\n",
    "- Alberto Ruy Sánchez, \n",
    "- Gabriel García Márquez, \n",
    "- Günther Grass, \n",
    "- Patrick Süskind, \n",
    "- Heinrich Böll, \n",
    "- Arturo Pérez-Reverte  \n",
    "- Camilo José Cela.\n",
    "\n",
    "Como aún no los ha leído, quiere ponerlos en una repisa cerca de su cama. De acuerdo con esto, determina:\n",
    "\n",
    "<strong>a)</strong> ¿De cuántas formas puede acomodar los libros sobre la repisa?\n",
    "\n",
    "Para el siguiente ejercicio tenemos que usar el factorial, el cual es la multiplicación del número al que le vamos a sacar el factorial, por todos sus números anteriores hasta llegar a 1. En este ejercicio sacaremos el factorial de **n**, que en este caso es el número total de autores.\n",
    "\n",
    "\n",
    "Para explicar un poco mejor la resolución del problema, tomaremos en cuenta lo siguiente: el número total de autores es 8 y tenemos que saber de cuántas formas diferentes podemos acomodarlos, lo cual se puede representar así: *(n * (n-1) * (n-2) * ... * (n-7))*, para este caso **n** es: 8, así que la resolución del ejercicio será:\n",
    "\n",
    "$$\n",
    "\\begin{align}\n",
    "    8 \\cdot (8-1) \\cdot (8-2) \\cdot (8-3) \\cdot (8-4) \\cdot (8-5) \\cdot (8-6) \\cdot (8-7) = X \n",
    "\\end{align}\n",
    "$$\n",
    "\n",
    "Lo cual es igual a:\n",
    "\n",
    "$$\n",
    "\\begin{align}\n",
    "    8 \\cdot 7 \\cdot 6 \\cdot 5 \\cdot 4 \\cdot 3 \\cdot 2 \\cdot 1 = 40320. \n",
    "\\end{align}\n",
    "$$"
   ]
  },
  {
   "cell_type": "code",
   "execution_count": 7,
   "id": "37e575ee-3871-49c1-80be-dfbc058a10db",
   "metadata": {},
   "outputs": [
    {
     "name": "stdout",
     "output_type": "stream",
     "text": [
      "Se pueden acomodar de: 40320 veces\n"
     ]
    }
   ],
   "source": [
    "n = 8\n",
    "formas_acomodar = math.factorial(n)\n",
    "print (\"Se pueden acomodar de:\" , formas_acomodar , \"veces\" )"
   ]
  },
  {
   "cell_type": "markdown",
   "id": "8af2d066-6ad4-4b66-8cc7-233d4590e092",
   "metadata": {},
   "source": [
    "<strong>b)</strong> ¿De cuántas maneras puede ordenarlos si quiere que los libros de autores latinoamericanos estén juntos?\n",
    "\n",
    "Para resolver el siguiente ejercico tenemos que saber cuantos autores son latinoamericanos.\n",
    "\n",
    "\n",
    "- Mario Vargas Llosa - Peruano\n",
    "- Alberto Ruy Sánchez - Mexicano\n",
    "- Gabriel García Márquez - Colombiano\n",
    "- Günther Grass - Alemán\n",
    "- Patrick Süskind - Alemán\n",
    "- Heinrich Böll - Alemán\n",
    "- Arturo Pérez-Reverte - Español\n",
    "- Camilo José Cela - Español\n",
    "\n",
    "Como podemos observar, hay 3 autores latinoamericanos. Para poder acomodar todos los libros de autores latinoamericanos juntos, haremos que todos ellos sean un solo dato al cual llamaremos \"latinos\", así que su representación será la siguiente: *(latinos, _, _, _, _, _)*. Podemos observar que el conjunto de libros al cual denominamos como \"latinos\" está de primero, ya que este conjunto contiene 3 de los 8 libros totales. Podemos saber que solo quedan 5 espacios para los demás libros, lo cual hará que cada uno de los espacios sean los valores del 5 al 1 y estos mismos se tienen que multiplicar, lo cual es lo mismo a sacar el factorial de 5, lo cual se representaría de la siguiente manera:\n",
    "\n",
    "$$\n",
    "\\begin{align}\n",
    "    5 \\cdot (5-1) \\cdot (5-2) \\cdot (5-3) \\cdot (5-4) = X \n",
    "\\end{align}\n",
    "$$\n",
    "\n",
    "Lo cual es igual a:\n",
    "\n",
    "$$\n",
    "\\begin{align}\n",
    "    5 \\cdot 4 \\cdot 3 \\cdot 2 \\cdot 1 = 120 \n",
    "\\end{align}\n",
    "$$\n",
    "\n",
    "Pero eso no es todo, ya que el acomodo del conjunto \"latinos\" puede variar en cada uno de los 6 espacios, como se muestra a continuación:\n",
    "- *(latinos, _, _, _, _, _)*\n",
    "- *(_, latinos, _, _, _, _)*\n",
    "- *(_, _, latinos, _, _, _)*\n",
    "- *(_, _, _, latinos, _, _)*\n",
    "- *(_, _, _, _, latinos, _)*\n",
    "- *(_, _, _, _, _, latinos)*\n",
    "\n",
    "Como podemos observar, hay 6 posiciones distintas en las que se puede acomodar, pero el resultado de cada uno de los acomodos es el mismo, por lo cual podemos sacar el resultado de un acomodo y multiplicarlo por 6, lo cual sería igual a: \n",
    "\n",
    "$$\n",
    "\\begin{align}\n",
    "    120 \\cdot 6 = 720 \n",
    "\\end{align}\n",
    "$$\n",
    "\n",
    "Pero nuevamente no es todo, ya que aunque juntamos los 3 libros de autores latinoamericanos dentro de un conjunto, estos mismos pueden estar en un orden diferente, lo cual se puede representar con el factorial de 3, lo cual se puede representar de la siguiente forma, suponiendo que los 3 libros serán representados con los números 1, 2, 3, por lo cual sus formas de acomodarlos se podrían ver de la siguiente manera: *(3, 2, 1)*. Usando el factorial, se representaría así:\n",
    "\n",
    "$$\n",
    "\\begin{align}\n",
    "    3 \\cdot (3-1) \\cdot (3-2) = X \n",
    "\\end{align}\n",
    "$$\n",
    "\n",
    "lo cual es igual a:\n",
    "\n",
    "$$\n",
    "\\begin{align}\n",
    "    3 \\cdot 2 \\cdot 1 = 6\n",
    "\\end{align}\n",
    "$$\n",
    "\n",
    "por lo cual tomaremos el valor que ya teníamos, **720**, y lo multiplicaremos por el número que acabamos de obtener, lo cual es igual a:\n",
    "\n",
    "$$\n",
    "\\begin{align}\n",
    "    720 \\cdot 6 = 4320\n",
    "\\end{align}\n",
    "$$"
   ]
  },
  {
   "cell_type": "code",
   "execution_count": 8,
   "id": "9a72820f-d30c-410b-b27e-93131fd59eef",
   "metadata": {},
   "outputs": [
    {
     "name": "stdout",
     "output_type": "stream",
     "text": [
      "4320\n"
     ]
    }
   ],
   "source": [
    "latinos = 3\n",
    "no_latinos = 5\n",
    "no_lugares_latinos = 6\n",
    "orden_latinos = math.factorial(no_latinos) * math.factorial(latinos) * no_lugares_latinos\n",
    "print (orden_latinos)"
   ]
  },
  {
   "cell_type": "markdown",
   "id": "243353b7-a736-453b-bc3e-93c113cd27f7",
   "metadata": {},
   "source": [
    "<strong>c)</strong> ¿De cuántas formas puede acomodarlos, si los autores latinoamericanos deben estar juntos, así como los autores alemanes y los españoles también?\n",
    "\n",
    "Para resolver el siguiente inciso, tendremos en cuenta todo lo que hemos hecho en los incisos anteriores. Se nos pide que juntemos los autores en 3 grupos: latinos, alemanes y españoles, y después averiguar de cuántas formas diferentes lo podemos acomodar.\n",
    "\n",
    "- Mario Vargas Llosa - Peruano\n",
    "- Alberto Ruy Sánchez - Mexicano\n",
    "- Gabriel García Márquez - Colombiano\n",
    "- Günther Grass - Alemán\n",
    "- Patrick Süskind - Alemán\n",
    "- Heinrich Böll - Alemán\n",
    "- Arturo Pérez-Reverte - Español\n",
    "- Camilo José Cela - Español\n",
    "\n",
    "Como podemos observar, hay 3 autores latinos, 3 alemanes y 2 españoles. Lo primero que haremos será sacar el factorial de cada uno de ellos, como se muestra a continuación:\n",
    "\n",
    "<strong>Latinos</strong>\n",
    "\n",
    "$$\n",
    "\\begin{align}\n",
    "    3 \\cdot (3-1) \\cdot (3-2) = X \n",
    "\\end{align}\n",
    "$$\n",
    "\n",
    "lo cual es igual a:\n",
    "\n",
    "$$\n",
    "\\begin{align}\n",
    "    3 \\cdot 2 \\cdot 1 = 6\n",
    "\\end{align}\n",
    "$$\n",
    "\n",
    "<strong>Alemanes</strong>\n",
    "\n",
    "$$\n",
    "\\begin{align}\n",
    "    3 \\cdot (3-1) \\cdot (3-2) = X \n",
    "\\end{align}\n",
    "$$\n",
    "\n",
    "lo cual es igual a:\n",
    "\n",
    "$$\n",
    "\\begin{align}\n",
    "    3 \\cdot 2 \\cdot 1 = 6\n",
    "\\end{align}\n",
    "$$\n",
    "\n",
    "<strong>Españoles</strong>\n",
    "\n",
    "$$\n",
    "\\begin{align}\n",
    "    2 \\cdot (2-1) = X \n",
    "\\end{align}\n",
    "$$\n",
    "\n",
    "lo cual es igual a:\n",
    "\n",
    "$$\n",
    "\\begin{align}\n",
    "    2 \\cdot 1 = 2\n",
    "\\end{align}\n",
    "$$\n",
    "\n",
    "Una vez hecho eso, sacaremos el factorial del número de posiciones en las que pueden estar cada uno, como se ejemplifica a continuación:\n",
    "\n",
    "\n",
    "- *(latinos, _, _)*\n",
    "- *(_, latinos, _)*\n",
    "- *(_, _, latinos)*\n",
    "\n",
    "Con la ejemplificación anterior, nos podemos dar cuenta de que hay 3 formas diferentes de acomodarlos, por lo cual sacaremos el factorial de 3, como se muestra a continuación:\n",
    "\n",
    "$$\n",
    "\\begin{align}\n",
    "    3 \\cdot (3-1) \\cdot (3-2) = X \n",
    "\\end{align}\n",
    "$$\n",
    "\n",
    "lo cual es igual a:\n",
    "\n",
    "$$\n",
    "\\begin{align}\n",
    "    3 \\cdot 2 \\cdot 1 = 6\n",
    "\\end{align}\n",
    "$$\n",
    "\n",
    "Una vez hecho eso, multiplicaremos los resultados de los factoriales del número de autores por el número de posiciones.\n",
    "\n",
    "$$\n",
    "\\begin{align}\n",
    "    6 \\cdot 6 \\cdot 2 \\cdot 6 = X \n",
    "\\end{align}\n",
    "$$\n",
    "\n",
    "$$\n",
    "\\begin{align}\n",
    "    36 \\cdot 2 \\cdot 6 = X \n",
    "\\end{align}\n",
    "$$\n",
    "\n",
    "$$\n",
    "\\begin{align}\n",
    "    72 \\cdot 6 = 432\n",
    "\\end{align}\n",
    "$$\n",
    "\n"
   ]
  },
  {
   "cell_type": "code",
   "execution_count": 10,
   "id": "b79e8335-4937-408d-bd79-aa83002dc9d2",
   "metadata": {},
   "outputs": [
    {
     "name": "stdout",
     "output_type": "stream",
     "text": [
      "432\n"
     ]
    }
   ],
   "source": [
    "latinos = 3\n",
    "alemanes = 3\n",
    "españoles = 2\n",
    "\n",
    "fl = math.factorial(latinos)\n",
    "fa = math.factorial(alemanes)\n",
    "fe = math.factorial(españoles)\n",
    "\n",
    "n = math.factorial(3)\n",
    "\n",
    "autores_ordenados = (fl * fa * fe) * n\n",
    "\n",
    "print(autores_ordenados)"
   ]
  },
  {
   "cell_type": "markdown",
   "id": "816ccf00-b6fb-4514-9e29-33d14cbe0e09",
   "metadata": {},
   "source": [
    "**d)** Determina las probabilidades correspondientes a los incisos *(b)* y *(c)*.\n",
    "\n",
    "Para poder determinar la probabilidad, debemos dividir el número de casos favorables entre el número de casos totales. El número de casos totales es de: *40320*. Para el inciso **b**, el número de casos favorables es de: *4320*, por lo cual el cálculo de la probabilidad quedaría de la siguiente manera:\n",
    "$$\n",
    "\\begin{align}\n",
    "    \\dfrac{4320}{40320} = 0.10714285714285714\n",
    "\\end{align}\n",
    "$$\n",
    "\n",
    "y para el inciso **c** quedaría de la siguiente forma:\n",
    "\n",
    "$$\n",
    "\\begin{align}\n",
    "    \\dfrac{432}{40320} = 0.010714285714285714\n",
    "\\end{align}\n",
    "$$"
   ]
  },
  {
   "cell_type": "code",
   "execution_count": 11,
   "id": "f2a72dd0-7b8e-4006-9658-73a7b8492428",
   "metadata": {},
   "outputs": [
    {
     "name": "stdout",
     "output_type": "stream",
     "text": [
      "0.10714285714285714\n",
      "0.010714285714285714\n"
     ]
    }
   ],
   "source": [
    "casos_fav = 40320\n",
    "inciso_b = 4320\n",
    "inciso_c = 432\n",
    "\n",
    "print(inciso_b/casos_fav)\n",
    "print(inciso_c/casos_fav)"
   ]
  },
  {
   "cell_type": "markdown",
   "id": "3c6f553d-04f1-49b9-a437-381cee6c2b10",
   "metadata": {},
   "source": [
    "**15. Futbol.** Tres parejas (tres hombres y tres mujeres) compran boletos para ir a un partido de los Pumas. Cuando llegan al estadio de Ciudad Universitaria les surge la duda de cómo sentarse en la fila. ¿De cuántas maneras pueden hacerlo si:\n",
    "\n",
    "**a)** No hay restricciones?\n",
    "\n",
    "Para este ejercicio, tomaremos como base lo aprendido en el ejercicio anterior (13), por lo cual sabemos que para saber de cuántas formas se pueden sentar, tenemos que sacar el factorial de 6, lo cual se vería de la siguiente forma:\n",
    "\n",
    "$$\n",
    "\\begin{align}\n",
    "    6 \\cdot (6-1) \\cdot (6-2) \\cdot (6-3) \\cdot (6-4) \\cdot (6-5) = X \n",
    "\\end{align}\n",
    "$$\n",
    "\n",
    "Lo cual es igual a:\n",
    "\n",
    "$$\n",
    "\\begin{align}\n",
    "    6 \\cdot 5 \\cdot 4 \\cdot 3 \\cdot 2 \\cdot 1 = 720. \n",
    "\\end{align}\n",
    "$$"
   ]
  },
  {
   "cell_type": "code",
   "execution_count": 12,
   "id": "bb092491-c753-4f97-8472-24422d821417",
   "metadata": {},
   "outputs": [
    {
     "name": "stdout",
     "output_type": "stream",
     "text": [
      "720\n"
     ]
    }
   ],
   "source": [
    "no_r = math.factorial(6)\n",
    "print(no_r)"
   ]
  },
  {
   "cell_type": "markdown",
   "id": "56e592a2-0495-416d-ade4-f930e5e4d50c",
   "metadata": {},
   "source": [
    "**b)** Los hombres deben sentarse juntos?\n",
    "\n",
    "Para este inciso, tomaremos en cuenta que son 3 hombres, por lo cual ya sabemos que el paso siguiente es sacar el factorial 3, como se muestra a continuación:\n",
    "\n",
    "$$\n",
    "\\begin{align}\n",
    "    3 \\cdot (3-1) \\cdot (3-2) = X \n",
    "\\end{align}\n",
    "$$\n",
    "\n",
    "lo cual es igual a:\n",
    "\n",
    "$$\n",
    "\\begin{align}\n",
    "    3 \\cdot 2 \\cdot 1 = 6\n",
    "\\end{align}\n",
    "$$\n",
    "\n",
    "Y después, sacaremos el factorial del número total de espacios, el cual es 4, lo cual representaremos a continuación:\n",
    "\n",
    "- *(hombres, _, _, _)*\n",
    "- *(_, hombres, _, _)*\n",
    "- *(_, _, hombres, _)*\n",
    "- *(_, _, _, hombres)*\n",
    "\n",
    "Bueno, una vez entendido el por qué vamos a sacar el factorial de 4, lo calcularemos:\n",
    "\n",
    "$$\n",
    "\\begin{align}\n",
    "    4 \\cdot (4-1) \\cdot (4-2) \\cdot (4-3) = X \n",
    "\\end{align}\n",
    "$$\n",
    "\n",
    "lo cual es igual a:\n",
    "\n",
    "$$\n",
    "\\begin{align}\n",
    "    4 \\cdot 3 \\cdot 2 \\cdot 1 = 24\n",
    "\\end{align}\n",
    "$$\n",
    "\n",
    "Y después, multiplicaremos ambos resultados, lo cual es igual a:\n",
    "\n",
    "$$\n",
    "\\begin{align}\n",
    "    6 \\cdot 24 = 144\n",
    "\\end{align}\n",
    "$$\n"
   ]
  },
  {
   "cell_type": "code",
   "execution_count": 14,
   "id": "28472869-0158-42d1-b6e9-7a12463547f6",
   "metadata": {},
   "outputs": [
    {
     "name": "stdout",
     "output_type": "stream",
     "text": [
      "144\n"
     ]
    }
   ],
   "source": [
    "hombres_juntos = math.factorial(4) * math.factorial(3)\n",
    "print(hombres_juntos)\n"
   ]
  },
  {
   "cell_type": "markdown",
   "id": "da8f459d-1579-4f79-91f8-ab367f733a59",
   "metadata": {},
   "source": [
    "**c)** Deben sentarse por parejas?\n",
    "\n",
    "Para resolver el siguiente inciso debemos de juntar a todos en parejas, como resultante nos dan tres parejas que podremos ordenar de distintas maneras, por lo cual con lo ya prendido sacaremos el factorial de 3 que es el numero total de parejas:\n",
    "\n",
    "- *(pareja 1, pareja 2, pareja 3)*\n",
    "- *(pareja 1, pareja 3, pareja 2)*\n",
    "- *(pareja 2, pareja 1, pareja 3)*\n",
    "- *(pareja 2, pareja 3, pareja 1)*\n",
    "- *(pareja 3, pareja 1, pareja 2)*\n",
    "- *(pareja 3, pareja 2, pareja 1)*\n",
    "\n",
    "lo cual se veria de la siguiente forma:\n",
    "\n",
    "$$\n",
    "\\begin{align}\n",
    "    3 \\cdot (3-1) \\cdot (3-2) = X \n",
    "\\end{align}\n",
    "$$\n",
    "\n",
    "lo cual es igual a:\n",
    "\n",
    "$$\n",
    "\\begin{align}\n",
    "    3 \\cdot 2 \\cdot 1 = 6\n",
    "\\end{align}\n",
    "$$\n",
    "\n",
    "despues de eso sabemos que dentro de cada conjunto de parejas hay 2 personas, por lu cual se pueden ordenar de distintas formas, por lo cual sacaremos el factorial de 2 de cada pareja, lo cual se veria de la siguiente manera:\n",
    "\n",
    "**Pareja 1**\n",
    "\n",
    "- *(persona 1, persona 2)*\n",
    "- *(persona 2, persona 1)*\n",
    "\n",
    "lo cual se veria de la siguiente forma:\n",
    "\n",
    "$$\n",
    "\\begin{align}\n",
    "    2 \\cdot (2-1) = X \n",
    "\\end{align}\n",
    "$$\n",
    "\n",
    "lo cual es igual a:\n",
    "\n",
    "$$\n",
    "\\begin{align}\n",
    "    2 \\cdot 1 = 2\n",
    "\\end{align}\n",
    "$$\n",
    "\n",
    "**Pareja 2**\n",
    "\n",
    "- *(persona 1, persona 2)*\n",
    "- *(persona 2, persona 1)*\n",
    "\n",
    "lo cual se veria de la siguiente forma:\n",
    "\n",
    "$$\n",
    "\\begin{align}\n",
    "    2 \\cdot (2-1) = X \n",
    "\\end{align}\n",
    "$$\n",
    "\n",
    "lo cual es igual a:\n",
    "\n",
    "$$\n",
    "\\begin{align}\n",
    "    2 \\cdot 1 = 2\n",
    "\\end{align}\n",
    "$$\n",
    "\n",
    "**Pareja 3**\n",
    "\n",
    "- *(persona 1, persona 2)*\n",
    "- *(persona 2, persona 1)*\n",
    "\n",
    "lo cual se veria de la siguiente forma:\n",
    "\n",
    "$$\n",
    "\\begin{align}\n",
    "    2 \\cdot (2-1) = X \n",
    "\\end{align}\n",
    "$$\n",
    "\n",
    "lo cual es igual a:\n",
    "\n",
    "$$\n",
    "\\begin{align}\n",
    "    2 \\cdot 1 = 2\n",
    "\\end{align}\n",
    "$$\n",
    "\n",
    "Y despues multiplicaremos el resultado de las 3 parejas por el resultado del numero total de parejas, lo cual se veria de la siguiente manera:\n",
    "\n",
    "$$\n",
    "\\begin{align}\n",
    "    2 \\cdot 2 \\cdot 2 \\cdot 6 = X. \\\\\n",
    "    8 \\cdot 6 = 48.\n",
    "\\end{align}\n",
    "$$"
   ]
  },
  {
   "cell_type": "code",
   "execution_count": 16,
   "id": "193da22c-3f34-41a5-91ce-4de727715c55",
   "metadata": {},
   "outputs": [
    {
     "name": "stdout",
     "output_type": "stream",
     "text": [
      "48\n"
     ]
    }
   ],
   "source": [
    "pareja1 = math.factorial(2)\n",
    "pareja2 = math.factorial(2)\n",
    "pareja3 = math.factorial(2)\n",
    "\n",
    "\n",
    "sentarse_parejas = math.factorial(3) * (pareja1 * pareja2 * pareja3)\n",
    "print(sentarse_parejas)"
   ]
  },
  {
   "cell_type": "markdown",
   "id": "4ce16ee9-9bed-466a-b050-a0e0df08214b",
   "metadata": {},
   "source": [
    "**d)** ¿Cuál es la probabilidad de cada uno de los eventos descritos en los incisos anteriores?\n",
    "\n",
    "Como sabemos la probabilidad es la divicion de el numero de casos favorables entre el numero de casos totales, por lo cual el inciso **b** quedaria de la siguiente forma:\n",
    "\n",
    "$$\n",
    "\\begin{align}\n",
    "    \\dfrac{144}{720} = 0.2\n",
    "\\end{align}\n",
    "$$\n",
    "\n",
    "y para el inciso **c**\n",
    "\n",
    "$$\n",
    "\\begin{align}\n",
    "    \\dfrac{48}{720} = 0.06666666666666667\n",
    "\\end{align}\n",
    "$$\n",
    "\n"
   ]
  },
  {
   "cell_type": "code",
   "execution_count": 17,
   "id": "5c7561cb-0506-4c70-ae28-b5e6984a8f0d",
   "metadata": {},
   "outputs": [
    {
     "name": "stdout",
     "output_type": "stream",
     "text": [
      "0.2\n",
      "0.06666666666666667\n"
     ]
    }
   ],
   "source": [
    "prob_b = hombres_juntos / no_r\n",
    "prob_c = sentarse_parejas / no_r\n",
    "\n",
    "print(prob_b)\n",
    "print(prob_c)"
   ]
  },
  {
   "cell_type": "markdown",
   "id": "0ee6b0c0-7676-4c50-91df-9cea4a49861b",
   "metadata": {},
   "source": [
    "# Ejercicio 16\n",
    "En un grupo de 25 alumnos hay 13 chicas y 12 chicos. Se desean formar equipos de trabajo para realizar una investigación\n",
    "\n",
    "**a) ¿Cuántos equipos de cinco personas pueden formarse?**"
   ]
  },
  {
   "cell_type": "markdown",
   "id": "6fa746b7-03d2-477b-8887-a52d4b5a6360",
   "metadata": {},
   "source": [
    "\n",
    "Para encontrar cuántos equipos de 5 personas pueden formarse a partir de un grupo de 25 alumnos, utilizamos la fórmula de combinaciones. Las combinaciones se usan cuando queremos seleccionar un grupo de elementos sin importar el orden en que se seleccionen.\n",
    "\n",
    "\n",
    "La formula de las combinaciones es:\n",
    "$$\\binom{n}{k} = \\frac{n!}{k!(n-k)!}$$\n",
    "\n",
    "Donde el total de elementos es 25 y el número de elementos que queremos seleccionar es 5\n",
    "\n",
    "$$\\binom{25}{5} = \\frac{25!}{5!(25-5)!}$$\n",
    "$$\\binom{25}{5} = \\frac{25!}{5! * 20!} =  53130$$\n",
    "\n",
    "Por lo tanto, se pueden formar *53,130* combinaciones diferentes de equipos de 5 personas"
   ]
  },
  {
   "cell_type": "code",
   "execution_count": 18,
   "id": "c4b19a45-7eff-4be3-b6c3-b65f032b4e1b",
   "metadata": {},
   "outputs": [
    {
     "name": "stdout",
     "output_type": "stream",
     "text": [
      "Se pueden formar equipos de 5 de 53130 formas \n"
     ]
    }
   ],
   "source": [
    "\n",
    "n , k= 25 , 5\n",
    "\n",
    "equipos = math.comb(n, k)\n",
    "print(f\"Se pueden formar equipos de {k} de {equipos} formas \")\n",
    "\n"
   ]
  },
  {
   "cell_type": "markdown",
   "id": "6b32d821-8059-4855-bdb6-4762e55c0e98",
   "metadata": {},
   "source": [
    "**b) ¿Cuántos equipos pueden formarse si debe haber una chica?**"
   ]
  },
  {
   "cell_type": "markdown",
   "id": "d4090697-4d21-4703-97d7-d9d1796c4a6a",
   "metadata": {},
   "source": [
    "Para calcular cuantos equipos pueden formarse si debe de haber una chica, primero calculamos la cantidad de formas en que se puede seleccionar equipos de esta forma.\n",
    "\n",
    "1. Utilizamos la fórmula de combinaciones para elegir 1 chica de entre las 13 disponibles\n",
    "\n",
    "$$\\binom{13}{1} = \\frac{13!}{1!(13-1)!} =  \\frac{13!}{1! * 12!}  = 13$$\n",
    "\n",
    "   *Esto nos dice que hay 13 maneras de elegir una chica*\n",
    "\n",
    "\n",
    "2. Nuevamente, utilizamos la fórmula de combinaciones para elegir 4 chicos de entre los 12 disponibles\n",
    "\n",
    "$$\\binom{12}{4} = \\frac{12!}{4!(12-4)!} =  \\frac{12!}{4! * 8!}  = 495$$\n",
    "\n",
    "*Esto nos dice que hay 495 maneras de elegir 4 chicos*\n",
    "\n",
    "3. Ahora ya obtenida cada combinación de 1 chica y 4 chicos formará un equipo. Multiplicamos las combinaciones obtenidas\n",
    "\n",
    "$$\n",
    "P(A) = \\ {13 * 495} = 6435\n",
    "$$\n",
    "\n",
    "Por lo tanto, se pueden formar *6,435* combinaciones diferentes de equipos habiendo una chica"
   ]
  },
  {
   "cell_type": "code",
   "execution_count": 19,
   "id": "726bdc21-e0db-4ad4-add8-5d7179cc2a6f",
   "metadata": {},
   "outputs": [
    {
     "name": "stdout",
     "output_type": "stream",
     "text": [
      "Se pueden formar 6435 combinaciones con 1 chica en el equipo\n"
     ]
    }
   ],
   "source": [
    "chicos, chicas = 13, 12\n",
    "\n",
    "co4 = math.comb(12, 4)\n",
    "ca1 = math.comb(13, 1)\n",
    "una_chica = ca1 * co4\n",
    "print(f\"Se pueden formar {una_chica} combinaciones con 1 chica en el equipo\")\n"
   ]
  },
  {
   "cell_type": "markdown",
   "id": "e511702e-f186-41e0-9a9d-82a089cd6302",
   "metadata": {},
   "source": [
    "**c) ¿Cuántos equipos pueden formarse si debe haber dos chicas?**"
   ]
  },
  {
   "cell_type": "markdown",
   "id": "6b29c10a-94b2-4625-b059-c716da1d3812",
   "metadata": {},
   "source": [
    "\n",
    "Ahora para calcular cuantos equipos pueden formarse si debe de haber dos chicas, primero calculamos la cantidad de formas en que se puede seleccionar equipos de cinco personas con al menos una chica. \n",
    "\n",
    "1. Utilizamos la fórmula de combinaciones para elegir 2 chicas de entre las 13 disponibles\n",
    "\n",
    "$$\\binom{13}{2} = \\frac{13!}{2!(13-2)!} =  \\frac{13!}{2! * 11!}  = 78$$\n",
    "\n",
    "*Esto nos dice que hay 78 maneras de elegir 2 chicas*\n",
    "\n",
    "\n",
    "2. Seleccionar 3 chicos, entre las 12 chicas disponibles \n",
    "\n",
    "$$\\binom{12}{3} = \\frac{12!}{3!(12-3)!} =  \\frac{12!}{3! * 9!}  = 220$$\n",
    "\n",
    "*Esto nos dice que hay 220 maneras de elegir 3 chicos*\n",
    "\n",
    "3.  Ahora ya obtenida cada combinación de 2 chica y 3 chicos formará un equipo. Multiplicamos las combinaciones obtenidas\n",
    "\n",
    "\n",
    "$$\n",
    "P(A) = \\ {78 * 220} = 17, 160\n",
    "$$\n",
    "\n",
    "Por lo tanto, se pueden formar *17,160* combinaciones diferentes de equipos con dos chicas "
   ]
  },
  {
   "cell_type": "code",
   "execution_count": 20,
   "id": "76d591c3-d603-464a-b982-e6ba7b3bf42b",
   "metadata": {},
   "outputs": [
    {
     "name": "stdout",
     "output_type": "stream",
     "text": [
      "Se pueden formar 17160 combinaciones diferentes de equipos con dos chicas\n"
     ]
    }
   ],
   "source": [
    "b, g = 3, 2\n",
    "c2g = math.comb(chicos, g) \n",
    "c3b = math.comb(chicas, b)\n",
    "\n",
    "\n",
    "dos_chicas = c2g * c3b\n",
    "print(f\"Se pueden formar {dos_chicas} combinaciones diferentes de equipos con dos chicas\")"
   ]
  },
  {
   "cell_type": "markdown",
   "id": "2cbbc7ed-4fe4-4579-a47e-755bf28d4e2b",
   "metadata": {},
   "source": [
    "**d) Determina las probabilidades correspondientes a los incisos anteriores**"
   ]
  },
  {
   "cell_type": "markdown",
   "id": "5dd16515-5165-4aee-b104-1a5f710f0f98",
   "metadata": {},
   "source": [
    "Para determinar las probabilidades, dividimos el número de casos favorables (las combinaciones que cumplen la condición) entre el número de casos totales (todas las posibles combinaciones de equipos de 5 personas)\n",
    "\n",
    "La formula es :\n",
    "$$  \\frac{Casos Favorables}{Casos Totales}  =   Probabilidad $$\n",
    "\n",
    "1. Caso 1: Probabilidad de formar un equipo con al menos una chica\n",
    "\n",
    "La probabilidad de que un equipo tenga al menos una chica se calcula dividiendo el número de equipos con al menos una chica entre el número total de equipos posibles\n",
    "\n",
    "$$  \\frac{6435}{53130}  =  0.121118 $$\n",
    "\n",
    "Por lo tanto hay aproximadamente un *12.1%* de probabilidad de formar un equipo con al menos una chica\n",
    "\n",
    "2. Caso 2: Probabilidad de formar un equipo con dos chicas\n",
    "\n",
    "La probabilidad de que un equipo tenga dos chicas se calcula dividiendo el número de equipos con dos chicas entre el número total de equipos posibles\n",
    "\n",
    "$$  \\frac{17160 }{53130} = 0.322981 $$\n",
    "\n",
    "Por lo tanto hay aproximadamente un 32.3% de probabilidad de formar un equipo con dos chicas."
   ]
  },
  {
   "cell_type": "code",
   "execution_count": 21,
   "id": "682fdfa6-75bc-4ed9-8f23-6579c0d3ae38",
   "metadata": {},
   "outputs": [
    {
     "name": "stdout",
     "output_type": "stream",
     "text": [
      "Caso 1: La probabilidad de que solo puede haber 1 chica en el equipo es del 12.11%\n",
      "Caso 2: La probabilidad de formar equipos con dos chicas es del 32.30%\n"
     ]
    }
   ],
   "source": [
    "p_una = una_chica / equipos\n",
    "p_dos = dos_chicas / equipos\n",
    "\n",
    "\n",
    "print(f\"Caso 1: La probabilidad de que solo puede haber 1 chica en el equipo es del {p_una *100:.2f}%\")\n",
    "print(f\"Caso 2: La probabilidad de formar equipos con dos chicas es del {p_dos* 100:.2f}%\")"
   ]
  }
 ],
 "metadata": {
  "kernelspec": {
   "display_name": "Python 3 (ipykernel)",
   "language": "python",
   "name": "python3"
  },
  "language_info": {
   "codemirror_mode": {
    "name": "ipython",
    "version": 3
   },
   "file_extension": ".py",
   "mimetype": "text/x-python",
   "name": "python",
   "nbconvert_exporter": "python",
   "pygments_lexer": "ipython3",
   "version": "3.12.2"
  }
 },
 "nbformat": 4,
 "nbformat_minor": 5
}
